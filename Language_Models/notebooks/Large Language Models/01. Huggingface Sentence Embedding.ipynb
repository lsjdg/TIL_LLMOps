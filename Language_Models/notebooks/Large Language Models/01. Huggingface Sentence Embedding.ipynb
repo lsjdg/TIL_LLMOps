{
 "cells": [
  {
   "cell_type": "markdown",
   "metadata": {},
   "source": [
    "## Huggingface Embedding Model\n",
    "* 한글을 가장 잘 embedding 할 수 있는 bge-m3 model 을 사용해 문장을 임베딩하고 유사도를 구한다"
   ]
  },
  {
   "cell_type": "code",
   "execution_count": 1,
   "metadata": {},
   "outputs": [
    {
     "name": "stderr",
     "output_type": "stream",
     "text": [
      "/opt/anaconda3/envs/llm-env/lib/python3.11/site-packages/sentence_transformers/cross_encoder/CrossEncoder.py:13: TqdmWarning: IProgress not found. Please update jupyter and ipywidgets. See https://ipywidgets.readthedocs.io/en/stable/user_install.html\n",
      "  from tqdm.autonotebook import tqdm, trange\n"
     ]
    }
   ],
   "source": [
    "from sentence_transformers import SentenceTransformer\n",
    "\n",
    "model = SentenceTransformer(\"BAAI/bge-m3\")"
   ]
  },
  {
   "cell_type": "markdown",
   "metadata": {},
   "source": [
    "bge-m3 embedding"
   ]
  },
  {
   "cell_type": "code",
   "execution_count": 3,
   "metadata": {},
   "outputs": [
    {
     "data": {
      "text/plain": [
       "(1024,)"
      ]
     },
     "execution_count": 3,
     "metadata": {},
     "output_type": "execute_result"
    }
   ],
   "source": [
    "embedded_vector = model.encode(\"야 저기 차 온다\")\n",
    "embedded_vector.shape"
   ]
  },
  {
   "cell_type": "code",
   "execution_count": 5,
   "metadata": {},
   "outputs": [
    {
     "data": {
      "text/html": [
       "<div>\n",
       "<style scoped>\n",
       "    .dataframe tbody tr th:only-of-type {\n",
       "        vertical-align: middle;\n",
       "    }\n",
       "\n",
       "    .dataframe tbody tr th {\n",
       "        vertical-align: top;\n",
       "    }\n",
       "\n",
       "    .dataframe thead th {\n",
       "        text-align: right;\n",
       "    }\n",
       "</style>\n",
       "<table border=\"1\" class=\"dataframe\">\n",
       "  <thead>\n",
       "    <tr style=\"text-align: right;\">\n",
       "      <th></th>\n",
       "      <th>text</th>\n",
       "    </tr>\n",
       "  </thead>\n",
       "  <tbody>\n",
       "    <tr>\n",
       "      <th>0</th>\n",
       "      <td>내일 차타고 놀러가자</td>\n",
       "    </tr>\n",
       "    <tr>\n",
       "      <th>1</th>\n",
       "      <td>지금 오는 버스는 어디서 오는 버스야?</td>\n",
       "    </tr>\n",
       "    <tr>\n",
       "      <th>2</th>\n",
       "      <td>차 한잔 하면서 이야기 하시죠</td>\n",
       "    </tr>\n",
       "    <tr>\n",
       "      <th>3</th>\n",
       "      <td>5차 공동구매! 오늘만 세일!</td>\n",
       "    </tr>\n",
       "    <tr>\n",
       "      <th>4</th>\n",
       "      <td>홍차 녹차 중에 어떤 차가 좋으세요?</td>\n",
       "    </tr>\n",
       "  </tbody>\n",
       "</table>\n",
       "</div>"
      ],
      "text/plain": [
       "                    text\n",
       "0            내일 차타고 놀러가자\n",
       "1  지금 오는 버스는 어디서 오는 버스야?\n",
       "2       차 한잔 하면서 이야기 하시죠\n",
       "3       5차 공동구매! 오늘만 세일!\n",
       "4   홍차 녹차 중에 어떤 차가 좋으세요?"
      ]
     },
     "execution_count": 5,
     "metadata": {},
     "output_type": "execute_result"
    }
   ],
   "source": [
    "import pandas as pd\n",
    "\n",
    "data = [\n",
    "    \"내일 차타고 놀러가자\",\n",
    "    \"지금 오는 버스는 어디서 오는 버스야?\",\n",
    "    \"차 한잔 하면서 이야기 하시죠\",\n",
    "    \"5차 공동구매! 오늘만 세일!\",\n",
    "    \"홍차 녹차 중에 어떤 차가 좋으세요?\",\n",
    "]\n",
    "\n",
    "df = pd.DataFrame(data, columns=[\"text\"])\n",
    "df"
   ]
  },
  {
   "cell_type": "code",
   "execution_count": 8,
   "metadata": {},
   "outputs": [
    {
     "data": {
      "text/html": [
       "<div>\n",
       "<style scoped>\n",
       "    .dataframe tbody tr th:only-of-type {\n",
       "        vertical-align: middle;\n",
       "    }\n",
       "\n",
       "    .dataframe tbody tr th {\n",
       "        vertical-align: top;\n",
       "    }\n",
       "\n",
       "    .dataframe thead th {\n",
       "        text-align: right;\n",
       "    }\n",
       "</style>\n",
       "<table border=\"1\" class=\"dataframe\">\n",
       "  <thead>\n",
       "    <tr style=\"text-align: right;\">\n",
       "      <th></th>\n",
       "      <th>text</th>\n",
       "      <th>embedding</th>\n",
       "    </tr>\n",
       "  </thead>\n",
       "  <tbody>\n",
       "    <tr>\n",
       "      <th>0</th>\n",
       "      <td>내일 차타고 놀러가자</td>\n",
       "      <td>[0.0054787057, 0.016985083, -0.020413557, 0.02...</td>\n",
       "    </tr>\n",
       "    <tr>\n",
       "      <th>1</th>\n",
       "      <td>지금 오는 버스는 어디서 오는 버스야?</td>\n",
       "      <td>[-0.013388535, 0.024189478, -0.02540331, -0.01...</td>\n",
       "    </tr>\n",
       "    <tr>\n",
       "      <th>2</th>\n",
       "      <td>차 한잔 하면서 이야기 하시죠</td>\n",
       "      <td>[-0.0022158083, 0.010684644, -0.03901669, 0.00...</td>\n",
       "    </tr>\n",
       "    <tr>\n",
       "      <th>3</th>\n",
       "      <td>5차 공동구매! 오늘만 세일!</td>\n",
       "      <td>[-0.030319396, -0.0011549637, -0.03304445, 0.0...</td>\n",
       "    </tr>\n",
       "    <tr>\n",
       "      <th>4</th>\n",
       "      <td>홍차 녹차 중에 어떤 차가 좋으세요?</td>\n",
       "      <td>[0.03611525, 0.0046490026, -0.021344088, -0.02...</td>\n",
       "    </tr>\n",
       "  </tbody>\n",
       "</table>\n",
       "</div>"
      ],
      "text/plain": [
       "                    text                                          embedding\n",
       "0            내일 차타고 놀러가자  [0.0054787057, 0.016985083, -0.020413557, 0.02...\n",
       "1  지금 오는 버스는 어디서 오는 버스야?  [-0.013388535, 0.024189478, -0.02540331, -0.01...\n",
       "2       차 한잔 하면서 이야기 하시죠  [-0.0022158083, 0.010684644, -0.03901669, 0.00...\n",
       "3       5차 공동구매! 오늘만 세일!  [-0.030319396, -0.0011549637, -0.03304445, 0.0...\n",
       "4   홍차 녹차 중에 어떤 차가 좋으세요?  [0.03611525, 0.0046490026, -0.021344088, -0.02..."
      ]
     },
     "execution_count": 8,
     "metadata": {},
     "output_type": "execute_result"
    }
   ],
   "source": [
    "def get_embedding(text):\n",
    "    return list(\n",
    "        model.encode(text)\n",
    "    )  # bge-m3 encoder 를 이용해 문장에 대한 embedding vector 생성\n",
    "\n",
    "\n",
    "df[\"embedding\"] = [get_embedding(text) for text in df[\"text\"]]\n",
    "df"
   ]
  },
  {
   "cell_type": "markdown",
   "metadata": {},
   "source": [
    "## 유사도 구하기\n",
    "* 벡터의 유사도를 구하는 방법 중 가장 쉽고 간단한 cosine similarity"
   ]
  },
  {
   "cell_type": "code",
   "execution_count": 9,
   "metadata": {},
   "outputs": [],
   "source": [
    "import numpy as np\n",
    "\n",
    "\n",
    "def cos_sim(A, B):\n",
    "    return A @ B / (np.linalg.norm(A) * np.linalg.norm(B))"
   ]
  },
  {
   "cell_type": "code",
   "execution_count": 10,
   "metadata": {},
   "outputs": [],
   "source": [
    "def get_candidate(df, query):\n",
    "    \"\"\"\n",
    "    df: string\n",
    "        list of embedding vectors of candidates\n",
    "    query: string\n",
    "        sentence to be compared with candidates\n",
    "\n",
    "    returns: df of top 3 candidates\n",
    "    \"\"\"\n",
    "    query_embedded = get_embedding(query)\n",
    "    df[\"similarity\"] = [\n",
    "        cos_sim(np.array(emb), query_embedded) for emb in df[\"embedding\"]\n",
    "    ]\n",
    "\n",
    "    candidates_sorted = df.sort_values(\"similarity\", ascending=False, ignore_index=True)\n",
    "    return candidates_sorted.head(3)"
   ]
  },
  {
   "cell_type": "code",
   "execution_count": 11,
   "metadata": {},
   "outputs": [
    {
     "data": {
      "text/html": [
       "<div>\n",
       "<style scoped>\n",
       "    .dataframe tbody tr th:only-of-type {\n",
       "        vertical-align: middle;\n",
       "    }\n",
       "\n",
       "    .dataframe tbody tr th {\n",
       "        vertical-align: top;\n",
       "    }\n",
       "\n",
       "    .dataframe thead th {\n",
       "        text-align: right;\n",
       "    }\n",
       "</style>\n",
       "<table border=\"1\" class=\"dataframe\">\n",
       "  <thead>\n",
       "    <tr style=\"text-align: right;\">\n",
       "      <th></th>\n",
       "      <th>text</th>\n",
       "      <th>embedding</th>\n",
       "      <th>similarity</th>\n",
       "    </tr>\n",
       "  </thead>\n",
       "  <tbody>\n",
       "    <tr>\n",
       "      <th>0</th>\n",
       "      <td>내일 차타고 놀러가자</td>\n",
       "      <td>[0.0054787057, 0.016985083, -0.020413557, 0.02...</td>\n",
       "      <td>0.707860</td>\n",
       "    </tr>\n",
       "    <tr>\n",
       "      <th>1</th>\n",
       "      <td>지금 오는 버스는 어디서 오는 버스야?</td>\n",
       "      <td>[-0.013388535, 0.024189478, -0.02540331, -0.01...</td>\n",
       "      <td>0.700798</td>\n",
       "    </tr>\n",
       "    <tr>\n",
       "      <th>2</th>\n",
       "      <td>차 한잔 하면서 이야기 하시죠</td>\n",
       "      <td>[-0.0022158083, 0.010684644, -0.03901669, 0.00...</td>\n",
       "      <td>0.632025</td>\n",
       "    </tr>\n",
       "  </tbody>\n",
       "</table>\n",
       "</div>"
      ],
      "text/plain": [
       "                    text  ... similarity\n",
       "0            내일 차타고 놀러가자  ...   0.707860\n",
       "1  지금 오는 버스는 어디서 오는 버스야?  ...   0.700798\n",
       "2       차 한잔 하면서 이야기 하시죠  ...   0.632025\n",
       "\n",
       "[3 rows x 3 columns]"
      ]
     },
     "execution_count": 11,
     "metadata": {},
     "output_type": "execute_result"
    }
   ],
   "source": [
    "top_3_candidates = get_candidate(df, \"야 저기 차 온다!\")\n",
    "top_3_candidates"
   ]
  },
  {
   "cell_type": "code",
   "execution_count": 12,
   "metadata": {},
   "outputs": [
    {
     "data": {
      "text/html": [
       "<div>\n",
       "<style scoped>\n",
       "    .dataframe tbody tr th:only-of-type {\n",
       "        vertical-align: middle;\n",
       "    }\n",
       "\n",
       "    .dataframe tbody tr th {\n",
       "        vertical-align: top;\n",
       "    }\n",
       "\n",
       "    .dataframe thead th {\n",
       "        text-align: right;\n",
       "    }\n",
       "</style>\n",
       "<table border=\"1\" class=\"dataframe\">\n",
       "  <thead>\n",
       "    <tr style=\"text-align: right;\">\n",
       "      <th></th>\n",
       "      <th>text</th>\n",
       "      <th>embedding</th>\n",
       "      <th>similarity</th>\n",
       "    </tr>\n",
       "  </thead>\n",
       "  <tbody>\n",
       "    <tr>\n",
       "      <th>0</th>\n",
       "      <td>차 한잔 하면서 이야기 하시죠</td>\n",
       "      <td>[-0.0022158083, 0.010684644, -0.03901669, 0.00...</td>\n",
       "      <td>0.629125</td>\n",
       "    </tr>\n",
       "    <tr>\n",
       "      <th>1</th>\n",
       "      <td>내일 차타고 놀러가자</td>\n",
       "      <td>[0.0054787057, 0.016985083, -0.020413557, 0.02...</td>\n",
       "      <td>0.608427</td>\n",
       "    </tr>\n",
       "    <tr>\n",
       "      <th>2</th>\n",
       "      <td>지금 오는 버스는 어디서 오는 버스야?</td>\n",
       "      <td>[-0.013388535, 0.024189478, -0.02540331, -0.01...</td>\n",
       "      <td>0.530346</td>\n",
       "    </tr>\n",
       "  </tbody>\n",
       "</table>\n",
       "</div>"
      ],
      "text/plain": [
       "                    text  ... similarity\n",
       "0       차 한잔 하면서 이야기 하시죠  ...   0.629125\n",
       "1            내일 차타고 놀러가자  ...   0.608427\n",
       "2  지금 오는 버스는 어디서 오는 버스야?  ...   0.530346\n",
       "\n",
       "[3 rows x 3 columns]"
      ]
     },
     "execution_count": 12,
     "metadata": {},
     "output_type": "execute_result"
    }
   ],
   "source": [
    "top_3_candidates = get_candidate(df, \"예쁜 카페 가고 싶어\")\n",
    "top_3_candidates"
   ]
  },
  {
   "cell_type": "code",
   "execution_count": null,
   "metadata": {},
   "outputs": [],
   "source": []
  }
 ],
 "metadata": {
  "kernelspec": {
   "display_name": "llm-env",
   "language": "python",
   "name": "python3"
  },
  "language_info": {
   "codemirror_mode": {
    "name": "ipython",
    "version": 3
   },
   "file_extension": ".py",
   "mimetype": "text/x-python",
   "name": "python",
   "nbconvert_exporter": "python",
   "pygments_lexer": "ipython3",
   "version": "3.11.8"
  }
 },
 "nbformat": 4,
 "nbformat_minor": 2
}
