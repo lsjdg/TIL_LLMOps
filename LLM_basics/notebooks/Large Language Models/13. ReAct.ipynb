{
 "cells": [
  {
   "cell_type": "markdown",
   "metadata": {},
   "source": [
    "# ReAct\n",
    "\n",
    "⭐️ ReAct (Reasoning + Acting) ⭐️는 프린스턴 대학교 학자들이 구글 연구원들과 협력하여 개발한 프롬프트 엔지니어링 전략입니다. 이 전략은 ***LLM이 인간처럼 문제를 풀기 위해 먼저 생각하고, 그에 따라 행동***하는 방식을 모방합니다.\n",
    "\n",
    "ReAct가 없는 모델의 경우 다음과 같은 문제가 발생할 수도 있습니다.\n",
    "```\n",
    "1. 사용자가 \"안중근 의사랑 세종대왕이랑 이순신 장군 알려줘\"라고 요청한 경우,\n",
    "2. 일반적인 모델의 경우 안중근 의사, 세종대왕, 이순신 장군에 대한 정보를 하나씩 생성하여 보여줍니다.\n",
    "3. 잘 생성하다가 안중근 의사, 세종대왕에 대한 정보만 생성하고, 이순신 장군에 대한 정보는 생성하지 않을 가능성이 존재합니다.\n",
    "```\n",
    "\n",
    "ReAct는 모델이 여러 외부 도구(검색 도구)를 사용할 수 있음을 전제로 하며, 도구의 결과를 바탕으로 다시 생각하고 행동을 이어갈 수 있게 합니다. 예를 들어, 다음과 같은 과정이 이뤄집니다:\n",
    "\n",
    "\t1.\t사용자가 “안중근 의사랑 세종대왕이랑 이순신 장군 알려줘”라고 요청할 경우,\n",
    "\t2.\tReAct 모델은 먼저 문제를 생각하여 “안중근 의사부터 검색하고, 이후에 순차적으로 검색하는 것이 좋겠다”고 판단합니다.\n",
    "\t3.\t그 후 행동으로 검색 도구를 호출하여 “안중근 의사”를 검색하고, 그 결과를 바탕으로 다시 생각과 행동을 반복해 나머지 인물들도 검색합니다.\n",
    "\n",
    "이처럼 ReAct는 한번의 질문에 많은 컨텍스트가 혼재되어있는 경우 모델이 생각과 행동을 번갈아 수행하도록 하여, 복잡한 문제도 여러 단계를 거쳐 해결할 수 있도록 지원합니다. 이를 통해 LLM은 인간처럼 상황을 이해하고 문제를 해결하는 에이전트로 기능할 수 있게 됩니다."
   ]
  },
  {
   "cell_type": "code",
   "execution_count": 1,
   "metadata": {},
   "outputs": [],
   "source": [
    "%%capture\n",
    "# update or install the necessary libraries\n",
    "# !pip install --upgrade openai\n",
    "%pip install --upgrade openai\n",
    "%pip install --upgrade langchain\n",
    "%pip install --upgrade python-dotenv\n",
    "%pip install google-search-results\n",
    "%pip install langchain_community\n",
    "%pip install ChatOpenAI"
   ]
  },
  {
   "cell_type": "code",
   "execution_count": 2,
   "metadata": {},
   "outputs": [
    {
     "data": {
      "text/plain": [
       "False"
      ]
     },
     "execution_count": 2,
     "metadata": {},
     "output_type": "execute_result"
    }
   ],
   "source": [
    "import openai\n",
    "import os\n",
    "\n",
    "from langchain.chat_models import ChatOpenAI\n",
    "from langchain.agents import load_tools\n",
    "from langchain.agents import initialize_agent\n",
    "from dotenv import load_dotenv\n",
    "\n",
    "load_dotenv()"
   ]
  },
  {
   "cell_type": "code",
   "execution_count": 3,
   "metadata": {},
   "outputs": [],
   "source": [
    "import sys\n",
    "\n",
    "sys.path.append(os.path.abspath(\"../../data\"))"
   ]
  },
  {
   "cell_type": "code",
   "execution_count": 4,
   "metadata": {},
   "outputs": [],
   "source": [
    "import API_KEY\n",
    "\n",
    "SerpAPI_key = API_KEY.SerpAPI_KEY\n",
    "os.environ[\"SERPAPI_API_KEY\"] = SerpAPI_key"
   ]
  },
  {
   "cell_type": "markdown",
   "metadata": {},
   "source": [
    "# ReAct 적용"
   ]
  },
  {
   "cell_type": "code",
   "execution_count": 5,
   "metadata": {},
   "outputs": [
    {
     "name": "stderr",
     "output_type": "stream",
     "text": [
      "/var/folders/h0/f86w2r851zn7yj1w80yw932h0000gn/T/ipykernel_15767/895470827.py:1: LangChainDeprecationWarning: The class `ChatOpenAI` was deprecated in LangChain 0.0.10 and will be removed in 1.0. An updated version of the class exists in the :class:`~langchain-openai package and should be used instead. To use it run `pip install -U :class:`~langchain-openai` and import as `from :class:`~langchain_openai import ChatOpenAI``.\n",
      "  llm = ChatOpenAI(model_name=\"gpt-4o-mini\", temperature=0)\n"
     ]
    },
    {
     "ename": "ValidationError",
     "evalue": "1 validation error for ChatOpenAI\n  Value error, Did not find openai_api_key, please add an environment variable `OPENAI_API_KEY` which contains it, or pass `openai_api_key` as a named parameter. [type=value_error, input_value={'model_name': 'gpt-4o-mi...ne, 'http_client': None}, input_type=dict]\n    For further information visit https://errors.pydantic.dev/2.9/v/value_error",
     "output_type": "error",
     "traceback": [
      "\u001b[0;31m---------------------------------------------------------------------------\u001b[0m",
      "\u001b[0;31mValidationError\u001b[0m                           Traceback (most recent call last)",
      "Cell \u001b[0;32mIn[5], line 1\u001b[0m\n\u001b[0;32m----> 1\u001b[0m llm \u001b[38;5;241m=\u001b[39m \u001b[43mChatOpenAI\u001b[49m\u001b[43m(\u001b[49m\u001b[43mmodel_name\u001b[49m\u001b[38;5;241;43m=\u001b[39;49m\u001b[38;5;124;43m\"\u001b[39;49m\u001b[38;5;124;43mgpt-4o-mini\u001b[39;49m\u001b[38;5;124;43m\"\u001b[39;49m\u001b[43m,\u001b[49m\u001b[43m \u001b[49m\u001b[43mtemperature\u001b[49m\u001b[38;5;241;43m=\u001b[39;49m\u001b[38;5;241;43m0\u001b[39;49m\u001b[43m)\u001b[49m\n",
      "File \u001b[0;32m/opt/anaconda3/envs/llm-env/lib/python3.11/site-packages/langchain_core/_api/deprecation.py:216\u001b[0m, in \u001b[0;36mdeprecated.<locals>.deprecate.<locals>.finalize.<locals>.warn_if_direct_instance\u001b[0;34m(self, *args, **kwargs)\u001b[0m\n\u001b[1;32m    214\u001b[0m     warned \u001b[38;5;241m=\u001b[39m \u001b[38;5;28;01mTrue\u001b[39;00m\n\u001b[1;32m    215\u001b[0m     emit_warning()\n\u001b[0;32m--> 216\u001b[0m \u001b[38;5;28;01mreturn\u001b[39;00m \u001b[43mwrapped\u001b[49m\u001b[43m(\u001b[49m\u001b[38;5;28;43mself\u001b[39;49m\u001b[43m,\u001b[49m\u001b[43m \u001b[49m\u001b[38;5;241;43m*\u001b[39;49m\u001b[43margs\u001b[49m\u001b[43m,\u001b[49m\u001b[43m \u001b[49m\u001b[38;5;241;43m*\u001b[39;49m\u001b[38;5;241;43m*\u001b[39;49m\u001b[43mkwargs\u001b[49m\u001b[43m)\u001b[49m\n",
      "File \u001b[0;32m/opt/anaconda3/envs/llm-env/lib/python3.11/site-packages/langchain_core/load/serializable.py:111\u001b[0m, in \u001b[0;36mSerializable.__init__\u001b[0;34m(self, *args, **kwargs)\u001b[0m\n\u001b[1;32m    109\u001b[0m \u001b[38;5;28;01mdef\u001b[39;00m \u001b[38;5;21m__init__\u001b[39m(\u001b[38;5;28mself\u001b[39m, \u001b[38;5;241m*\u001b[39margs: Any, \u001b[38;5;241m*\u001b[39m\u001b[38;5;241m*\u001b[39mkwargs: Any) \u001b[38;5;241m-\u001b[39m\u001b[38;5;241m>\u001b[39m \u001b[38;5;28;01mNone\u001b[39;00m:\n\u001b[1;32m    110\u001b[0m \u001b[38;5;250m    \u001b[39m\u001b[38;5;124;03m\"\"\"\"\"\"\u001b[39;00m\n\u001b[0;32m--> 111\u001b[0m     \u001b[38;5;28;43msuper\u001b[39;49m\u001b[43m(\u001b[49m\u001b[43m)\u001b[49m\u001b[38;5;241;43m.\u001b[39;49m\u001b[38;5;21;43m__init__\u001b[39;49m\u001b[43m(\u001b[49m\u001b[38;5;241;43m*\u001b[39;49m\u001b[43margs\u001b[49m\u001b[43m,\u001b[49m\u001b[43m \u001b[49m\u001b[38;5;241;43m*\u001b[39;49m\u001b[38;5;241;43m*\u001b[39;49m\u001b[43mkwargs\u001b[49m\u001b[43m)\u001b[49m\n",
      "File \u001b[0;32m/opt/anaconda3/envs/llm-env/lib/python3.11/site-packages/pydantic/main.py:212\u001b[0m, in \u001b[0;36mBaseModel.__init__\u001b[0;34m(self, **data)\u001b[0m\n\u001b[1;32m    210\u001b[0m \u001b[38;5;66;03m# `__tracebackhide__` tells pytest and some other tools to omit this function from tracebacks\u001b[39;00m\n\u001b[1;32m    211\u001b[0m __tracebackhide__ \u001b[38;5;241m=\u001b[39m \u001b[38;5;28;01mTrue\u001b[39;00m\n\u001b[0;32m--> 212\u001b[0m validated_self \u001b[38;5;241m=\u001b[39m \u001b[38;5;28;43mself\u001b[39;49m\u001b[38;5;241;43m.\u001b[39;49m\u001b[43m__pydantic_validator__\u001b[49m\u001b[38;5;241;43m.\u001b[39;49m\u001b[43mvalidate_python\u001b[49m\u001b[43m(\u001b[49m\u001b[43mdata\u001b[49m\u001b[43m,\u001b[49m\u001b[43m \u001b[49m\u001b[43mself_instance\u001b[49m\u001b[38;5;241;43m=\u001b[39;49m\u001b[38;5;28;43mself\u001b[39;49m\u001b[43m)\u001b[49m\n\u001b[1;32m    213\u001b[0m \u001b[38;5;28;01mif\u001b[39;00m \u001b[38;5;28mself\u001b[39m \u001b[38;5;129;01mis\u001b[39;00m \u001b[38;5;129;01mnot\u001b[39;00m validated_self:\n\u001b[1;32m    214\u001b[0m     warnings\u001b[38;5;241m.\u001b[39mwarn(\n\u001b[1;32m    215\u001b[0m         \u001b[38;5;124m'\u001b[39m\u001b[38;5;124mA custom validator is returning a value other than `self`.\u001b[39m\u001b[38;5;130;01m\\n\u001b[39;00m\u001b[38;5;124m'\u001b[39m\n\u001b[1;32m    216\u001b[0m         \u001b[38;5;124m\"\u001b[39m\u001b[38;5;124mReturning anything other than `self` from a top level model validator isn\u001b[39m\u001b[38;5;124m'\u001b[39m\u001b[38;5;124mt supported when validating via `__init__`.\u001b[39m\u001b[38;5;130;01m\\n\u001b[39;00m\u001b[38;5;124m\"\u001b[39m\n\u001b[1;32m    217\u001b[0m         \u001b[38;5;124m'\u001b[39m\u001b[38;5;124mSee the `model_validator` docs (https://docs.pydantic.dev/latest/concepts/validators/#model-validators) for more details.\u001b[39m\u001b[38;5;124m'\u001b[39m,\n\u001b[1;32m    218\u001b[0m         category\u001b[38;5;241m=\u001b[39m\u001b[38;5;28;01mNone\u001b[39;00m,\n\u001b[1;32m    219\u001b[0m     )\n",
      "\u001b[0;31mValidationError\u001b[0m: 1 validation error for ChatOpenAI\n  Value error, Did not find openai_api_key, please add an environment variable `OPENAI_API_KEY` which contains it, or pass `openai_api_key` as a named parameter. [type=value_error, input_value={'model_name': 'gpt-4o-mi...ne, 'http_client': None}, input_type=dict]\n    For further information visit https://errors.pydantic.dev/2.9/v/value_error"
     ]
    }
   ],
   "source": [
    "llm = ChatOpenAI(model_name=\"gpt-4o-mini\", temperature=0)"
   ]
  },
  {
   "cell_type": "code",
   "execution_count": 16,
   "metadata": {},
   "outputs": [],
   "source": [
    "# 도구 설정. 구글링 API인 SerpAPI와 수학 계산을 위한 llm-math 도구를 가져옴\n",
    "# tool customizing : https://python.langchain.com/v0.1/docs/modules/tools/custom_tools/\n",
    "tools = load_tools([\"serpapi\", \"llm-math\"], llm=llm)"
   ]
  },
  {
   "cell_type": "code",
   "execution_count": 15,
   "metadata": {},
   "outputs": [],
   "source": [
    "# model 과 tools 를 합쳐 agent 생성\n",
    "agent = initialize_agent(\n",
    "    tools,\n",
    "    llm,\n",
    "    agent=\"zero-shot-react-description\",  # langchain 에서 ReAct 를 사용할 수 있도록 agent 제공\n",
    "    verbose=True,  # 무슨 생각을 하고 있는지 출력\n",
    "    handle_parsing_errors=True,\n",
    ")"
   ]
  },
  {
   "cell_type": "markdown",
   "metadata": {},
   "source": [
    "# ReAct 기반 답변 생성"
   ]
  },
  {
   "cell_type": "code",
   "execution_count": 17,
   "metadata": {},
   "outputs": [
    {
     "name": "stderr",
     "output_type": "stream",
     "text": [
      "/var/folders/h0/f86w2r851zn7yj1w80yw932h0000gn/T/ipykernel_45544/565429179.py:1: LangChainDeprecationWarning: The method `Chain.run` was deprecated in langchain 0.1.0 and will be removed in 1.0. Use :meth:`~invoke` instead.\n",
      "  response = agent.run(\"지난주 프리미어리그 승리팀의 수와 오늘 서울의 기온을 더해줘\")\n"
     ]
    },
    {
     "name": "stdout",
     "output_type": "stream",
     "text": [
      "\n",
      "\n",
      "\u001b[1m> Entering new AgentExecutor chain...\u001b[0m\n",
      "\u001b[32;1m\u001b[1;3m지난주 프리미어리그 승리팀의 수를 알아보려면 최근 경기 결과를 확인해야 하고, 오늘 서울의 기온도 확인해야 한다. 두 가지 정보를 모두 찾아보겠다. \n",
      "\n",
      "Action: Search  \n",
      "Action Input: \"프리미어리그 지난주 승리팀 수\"  \u001b[0m\n",
      "Observation: \u001b[36;1m\u001b[1;3m['1992년부터 현재까지 총 49팀이 프리미어리그 무대를 밟았고, 이 중 맨체스터 유나이티드 FC, 블랙번 로버스 FC, 아스널 FC, 첼시 FC, 맨체스터 시티 FC, 레스터 시티 FC, ...', '영국 현지 분석 \"토트넘 브렌트포드 못 이긴다\" (프리미어리그 5R 승부예측 총정리) #손흥민 #토트넘 #한준티비 한준TV 멤버십을 시작합니다.', 'epl 순위 결과 · 1위. 리버풀 · 2위. 맨시티 · 3위. 아스널 · 4위. 첼시 · 5위. 애스턴 빌라 · 6위. 브라이튼 · 7위. 뉴캐슬 · 8위. 풀럼.', '최다 우승: 맨체스터 유나이티드(20회) · 최다 연속 우승: 맨체스터 시티(4회) · 최다 참가: 에버튼, 아스날, 맨체스터 유나이티드, 리버풀, 첼시, 토트넘 ...', '매체는 \"지난해 여름엔 부진했지만, 최근 맨체스터 시티전(2골)에서 최고의 경기를 펼친 뒤 리즈 유나이티드와 에버튼, 브라이튼전에서 팀 승리를 ...', '프리미어리그 2024/2025 실시간 점수와 최종 결과, 일정, 순위를 팔로우하세요! Livesport.com은 홈/어웨이/전체의 프리미어리그 2024/2025 순위와 최근 5경기성적, 오버/ ...', '손흥민(토트넘)이 결승골을 터뜨리며 팀을 승리로 이끈 가운데, EPL 순위가 지난주 13위에서 11계단 상승한 2위로 껑충 뛰어올랐다. 영국 스카이스포츠는 ...', '레스터와의 개막전에서 2-1로 승리를 거둔 맨유는 이제 11월에 열리는 리즈 유나이티드와의 조별리그 마지막 경기에서 승리를 거둬 본선 진출에 도전한다.', '\"모두가 건강했다면, 그는 거기 없었을 것\"이라고 뮌헨에서 열린 네덜란드와의 경기에서 1-0 승리를 거둔 후, 유 Julian Nagelsmann 감독이 말했습니다.']\u001b[0m\n",
      "Thought:\u001b[32;1m\u001b[1;3m프리미어리그의 지난주 승리팀 수에 대한 정보가 명확하게 나타나지 않았다. 더 구체적인 정보를 찾기 위해 \"프리미어리그 지난주 경기 결과\"를 검색해 보겠다.\n",
      "\n",
      "Action: Search  \n",
      "Action Input: \"프리미어리그 지난주 경기 결과\"  \u001b[0m\n",
      "Observation: \u001b[36;1m\u001b[1;3m{'title': 'Premier League', 'rankings': 'Matchday 7 of 38', 'thumbnail': 'https://serpapi.com/searches/670f16e6a882784d438ccbf7/images/3804a78b42a49db7064ad2ad25526755bddf19ba00845fb1f1d0572872396b98.png', 'games': [{'tournament': 'Premier League', 'venue': 'Falmer Stadium', 'venue_kgmid': '/m/041m7v', 'status': 'FT', 'date': 'Sun, Oct 6', 'video_highlights': {'link': 'https://www.youtube.com/watch?v=K2sSIH4XyBo&feature=onebox', 'thumbnail': 'https://serpapi.com/searches/670f16e6a882784d438ccbf7/images/3804a78b42a49db7e8499fbb8efb5cdc8b526dc2840a6626454ebd2854bede4d5c2a6e5e86fedf6f9f5eeb7733c5975f04e86883d99ce1f7.jpeg', 'duration': '12:27'}, 'teams': [{'name': 'Brighton', 'score': '3', 'kgmid': '/m/0j2pg', 'thumbnail': 'https://serpapi.com/searches/670f16e6a882784d438ccbf7/images/3804a78b42a49db7e8499fbb8efb5cdc8bef15131658047367e971c565e8df6c70b2f0fa7c64a6b73eac983c16822014.png'}, {'name': 'Tottenham', 'score': '2', 'kgmid': '/m/0hvjr', 'thumbnail': 'https://serpapi.com/searches/670f16e6a882784d438ccbf7/images/3804a78b42a49db7e8499fbb8efb5cdc8bef15131658047371304743e0706d06c74100de1c1c733b790183b00db33914.png'}]}, {'tournament': 'Premier League', 'venue': 'Stamford Bridge', 'venue_kgmid': '/m/0314gb', 'status': 'FT', 'date': 'Sun, Oct 6', 'video_highlights': {'link': 'https://www.youtube.com/watch?v=_HvNR6aZxHI&feature=onebox', 'thumbnail': 'https://serpapi.com/searches/670f16e6a882784d438ccbf7/images/3804a78b42a49db7e8499fbb8efb5cdc603aa0fcd5857047f90fd5cfa2737a6168540c9947a5571019fc4595750b9c97653f0703d1e8a5a2.jpeg', 'duration': '8:49'}, 'teams': [{'name': 'Chelsea', 'score': '1', 'kgmid': '/m/023fb', 'thumbnail': 'https://serpapi.com/searches/670f16e6a882784d438ccbf7/images/3804a78b42a49db7e8499fbb8efb5cdcd4041df3979bea607cb10460d61a7d836e71d9438fb4f3a98cd6428d2a896958.png'}, {'name': 'Nottm Forest', 'score': '1', 'red_card': True, 'kgmid': '/m/014nzp', 'thumbnail': 'https://serpapi.com/searches/670f16e6a882784d438ccbf7/images/3804a78b42a49db7e8499fbb8efb5cdcd4041df3979bea60cd42ac177a0b365998edcbbff140f709d9ff894e1ae93302.png'}]}, {'tournament': 'Premier League', 'venue': 'Villa Park', 'venue_kgmid': '/m/02k_jb', 'status': 'FT', 'date': 'Sun, Oct 6', 'video_highlights': {'link': 'https://www.youtube.com/watch?v=BLDza1xqu4c&feature=onebox', 'thumbnail': 'https://serpapi.com/searches/670f16e6a882784d438ccbf7/images/3804a78b42a49db7e8499fbb8efb5cdcd735ed12f4f1d250feabd09828d29ccfad8088435e6774249040e2d1fdc21aa799bab62ee672abaa.jpeg', 'duration': '7:43'}, 'teams': [{'name': 'Aston Villa', 'score': '0', 'kgmid': '/m/0bl8l', 'thumbnail': 'https://serpapi.com/searches/670f16e6a882784d438ccbf7/images/3804a78b42a49db7e8499fbb8efb5cdcd649e2e79781112b350a5bc3279ce13eef5674c33866aabb1e6bc9616887bff7.png'}, {'name': 'Man United', 'score': '0', 'kgmid': '/m/050fh', 'thumbnail': 'https://serpapi.com/searches/670f16e6a882784d438ccbf7/images/3804a78b42a49db7e8499fbb8efb5cdcd649e2e79781112b87bc381e7060d09a064f7aa6d5508d71c81bcdf0895ace68.png'}]}]}\u001b[0m\n",
      "Thought:\u001b[32;1m\u001b[1;3m지난주 프리미어리그에서 승리한 팀의 수를 확인하기 위해 경기 결과를 살펴보았다. 지난주 일요일(10월 6일)에는 다음과 같은 경기가 있었다:\n",
      "\n",
      "1. 브라이튼 3 - 2 토트넘 (브라이튼 승리)\n",
      "2. 첼시 1 - 1 노팅엄 포레스트 (무승부)\n",
      "3. 아스턴 빌라 0 - 0 맨체스터 유나이티드 (무승부)\n",
      "\n",
      "따라서 지난주에 승리한 팀은 브라이튼 한 팀이다. \n",
      "\n",
      "이제 서울의 기온을 확인해야 한다.\n",
      "\n",
      "Action: Search  \n",
      "Action Input: \"서울 기온 오늘\"  \u001b[0m\n",
      "Observation: \u001b[36;1m\u001b[1;3m{'type': 'weather_result', 'temperature': '74', 'unit': 'Fahrenheit', 'precipitation': '0%', 'humidity': '56%', 'wind': '5 mph', 'location': '대한민국 서울특별시', 'date': 'Wednesday', 'weather': 'Partly cloudy'}\u001b[0m\n",
      "Thought:\u001b[32;1m\u001b[1;3m서울의 기온은 74도 화씨(약 23도 섭씨)로 확인되었다. 지난주 프리미어리그에서 승리한 팀은 브라이튼 한 팀이므로, 승리팀 수는 1이다. 이제 두 값을 더해보겠다.\n",
      "\n",
      "Action: Calculator  \n",
      "Action Input: 1 + 74  \u001b[0m\n",
      "Observation: \u001b[33;1m\u001b[1;3mAnswer: 75\u001b[0m\n",
      "Thought:\u001b[32;1m\u001b[1;3mI now know the final answer.  \n",
      "Final Answer: 75\u001b[0m\n",
      "\n",
      "\u001b[1m> Finished chain.\u001b[0m\n"
     ]
    }
   ],
   "source": [
    "response = agent.run(\"지난주 프리미어리그 승리팀의 수와 오늘 서울의 기온을 더해줘\")"
   ]
  },
  {
   "cell_type": "code",
   "execution_count": 18,
   "metadata": {},
   "outputs": [
    {
     "data": {
      "text/plain": [
       "'75'"
      ]
     },
     "execution_count": 18,
     "metadata": {},
     "output_type": "execute_result"
    }
   ],
   "source": [
    "response"
   ]
  },
  {
   "cell_type": "markdown",
   "metadata": {},
   "source": [
    "# ReAct Agent + RAG"
   ]
  },
  {
   "cell_type": "code",
   "execution_count": 1,
   "metadata": {},
   "outputs": [
    {
     "name": "stdout",
     "output_type": "stream",
     "text": [
      "Note: you may need to restart the kernel to use updated packages.\n"
     ]
    }
   ],
   "source": [
    "%pip install --quiet langchain tiktoken chromadb pymupdf sentence-transformers openai"
   ]
  },
  {
   "cell_type": "code",
   "execution_count": 2,
   "metadata": {},
   "outputs": [],
   "source": [
    "from langchain.text_splitter import RecursiveCharacterTextSplitter\n",
    "from langchain.embeddings import HuggingFaceEmbeddings\n",
    "from langchain_community.document_loaders import PyMuPDFLoader\n",
    "from langchain_community.vectorstores import Chroma\n",
    "from langchain.tools.retriever import create_retriever_tool\n",
    "from langchain import hub\n",
    "from langchain.chat_models import ChatOpenAI\n",
    "from langchain.agents import AgentExecutor, create_react_agent\n",
    "from langchain.agents import initialize_agent"
   ]
  },
  {
   "cell_type": "code",
   "execution_count": 4,
   "metadata": {},
   "outputs": [],
   "source": [
    "# PDF 파일로드\n",
    "loader = PyMuPDFLoader(\n",
    "    \"../../data/nlp/[이슈리포트 2022-2호] 혁신성장 정책금융 동향.pdf\"\n",
    ")\n",
    "data = loader.load()\n",
    "\n",
    "# 청킹\n",
    "text_splitter = RecursiveCharacterTextSplitter.from_tiktoken_encoder(\n",
    "    chunk_size=512, chunk_overlap=0\n",
    ")\n",
    "doc_splits = text_splitter.split_documents(data)"
   ]
  },
  {
   "cell_type": "code",
   "execution_count": 5,
   "metadata": {},
   "outputs": [
    {
     "name": "stderr",
     "output_type": "stream",
     "text": [
      "/var/folders/h0/f86w2r851zn7yj1w80yw932h0000gn/T/ipykernel_11482/619414544.py:4: LangChainDeprecationWarning: The class `HuggingFaceEmbeddings` was deprecated in LangChain 0.2.2 and will be removed in 1.0. An updated version of the class exists in the :class:`~langchain-huggingface package and should be used instead. To use it run `pip install -U :class:`~langchain-huggingface` and import as `from :class:`~langchain_huggingface import HuggingFaceEmbeddings``.\n",
      "  embd = HuggingFaceEmbeddings(\n",
      "/opt/anaconda3/envs/llm-env/lib/python3.11/site-packages/sentence_transformers/cross_encoder/CrossEncoder.py:13: TqdmWarning: IProgress not found. Please update jupyter and ipywidgets. See https://ipywidgets.readthedocs.io/en/stable/user_install.html\n",
      "  from tqdm.autonotebook import tqdm, trange\n"
     ]
    }
   ],
   "source": [
    "# 임베딩 설정\n",
    "embedding_model = \"BAAI/bge-m3\"\n",
    "\n",
    "embd = HuggingFaceEmbeddings(model_name=embedding_model)"
   ]
  },
  {
   "cell_type": "code",
   "execution_count": 9,
   "metadata": {},
   "outputs": [],
   "source": [
    "# 로컬 환경에서의 디렉토리 경로 설정 (예: 현재 작업 디렉토리 아래의 'vector' 폴더)\n",
    "persist_directory = os.path.join(os.getcwd(), \"vector\")\n",
    "\n",
    "# 벡터 스토어 생성\n",
    "vectorstore = Chroma.from_documents(\n",
    "    persist_directory=persist_directory,  # 저장할 디렉토리 경로\n",
    "    documents=doc_splits,  # 문서 데이터\n",
    "    embedding=embd,  # 임베딩 모델\n",
    ")\n",
    "\n",
    "# 리트리버로 변환\n",
    "vectorstore_retriever = vectorstore.as_retriever()"
   ]
  },
  {
   "cell_type": "code",
   "execution_count": 10,
   "metadata": {},
   "outputs": [
    {
     "name": "stderr",
     "output_type": "stream",
     "text": [
      "/var/folders/h0/f86w2r851zn7yj1w80yw932h0000gn/T/ipykernel_11482/27759085.py:1: LangChainDeprecationWarning: The method `BaseRetriever.get_relevant_documents` was deprecated in langchain-core 0.1.46 and will be removed in 1.0. Use :meth:`~invoke` instead.\n",
      "  vectorstore_retriever.get_relevant_documents(\"세계 인공시장에 대해 설명해줘\")\n"
     ]
    },
    {
     "data": {
      "text/plain": [
       "[Document(metadata={'author': 'kmd kdy', 'creationDate': \"D:20220729090316+09'00'\", 'creator': 'Hancom PDF 1.3.0.538', 'file_path': '../../data/nlp/[이슈리포트 2022-2호] 혁신성장 정책금융 동향.pdf', 'format': 'PDF 1.4', 'keywords': '', 'modDate': \"D:20220729090316+09'00'\", 'page': 9, 'producer': 'Hancom PDF 1.3.0.538', 'source': '../../data/nlp/[이슈리포트 2022-2호] 혁신성장 정책금융 동향.pdf', 'subject': '', 'title': '', 'total_pages': 18, 'trapped': ''}, page_content='직접적인 대체 기술이 없어 대체재로부터 위협이 낮은 편이며, 알고리즘의 동작원리를 이해하고 맞\\n춤형 서비스를 지원하기 위한 솔루션 개발 능력이 뒷받침 되어야 하는 기술집약적 산업임\\n▶시장조사전문기관 BCC research에 따르면 세계 인공지능 시장규모는 2020년 398.4억 달러에서 \\n연평균 41.0% 성장하여 2025년에는 2,223.7억 달러의 시장을 형성할 것으로 전망됨\\n￮'),\n",
       " Document(metadata={'author': 'kmd kdy', 'creationDate': \"D:20220729090316+09'00'\", 'creator': 'Hancom PDF 1.3.0.538', 'file_path': '../../data/nlp/[이슈리포트 2022-2호] 혁신성장 정책금융 동향.pdf', 'format': 'PDF 1.4', 'keywords': '', 'modDate': \"D:20220729090316+09'00'\", 'page': 9, 'producer': 'Hancom PDF 1.3.0.538', 'source': '../../data/nlp/[이슈리포트 2022-2호] 혁신성장 정책금융 동향.pdf', 'subject': '', 'title': '', 'total_pages': 18, 'trapped': ''}, page_content='세부 솔루션 분문별로는 2020년 기준 소프트웨어 부문의 점유율이 전체시장의 78.3%를 차지할 \\n정도로 압도적으로 높음\\n[세계 인공지능 시장규모]\\n                                                            (단위: 억 달러, 괄호는 YoY %)\\n구분\\n2020\\n2021\\n2022\\n2023\\n2024\\n2025\\nCAGR\\n(2020-2025)\\n인공지능\\n398.4\\n553.3\\n769.7\\n1,134.3\\n1,498.9\\n2,223.7\\n41.0%\\n\\u3000\\n(38.9)\\n(39.1)\\n(47.4)\\n(32.1)\\n(48.4)\\n  \\n소프트웨어\\n311.8\\n432.3\\n600.3\\n882.4\\n1,164.6\\n1,723.5\\n40.8%\\n\\u3000\\n(38.6)\\n(38.8)\\n(47.0)\\n(32.0)\\n(48.0)\\n  \\n서비스\\n55.7\\n78.0\\n109.3\\n162.6\\n216.0\\n323.7\\n42.2%\\n\\u3000\\n(40.0)'),\n",
       " Document(metadata={'author': 'kmd kdy', 'creationDate': \"D:20220729090316+09'00'\", 'creator': 'Hancom PDF 1.3.0.538', 'file_path': '../../data/nlp/[이슈리포트 2022-2호] 혁신성장 정책금융 동향.pdf', 'format': 'PDF 1.4', 'keywords': '', 'modDate': \"D:20220729090316+09'00'\", 'page': 9, 'producer': 'Hancom PDF 1.3.0.538', 'source': '../../data/nlp/[이슈리포트 2022-2호] 혁신성장 정책금융 동향.pdf', 'subject': '', 'title': '', 'total_pages': 18, 'trapped': ''}, page_content='| 10 | CIS이슈리포트 2022-2호 \\n▶인공지능 산업의 value chain은 ‘AI 플랫폼 공급업체 → AI 어플리케이션 개발 → AI 응용솔루션 \\n개발 → 이용자’로 구성되며, 동 산업은 ①성장기 산업, ②대체재로부터의 위협이 낮은 산업, ③기\\n술집약적 산업 등의 특징을 가짐\\n￮\\n알고리즘, 하드웨어 기술개발과 응용솔루션 서비스 상용화가 활발히 진행 중인 성장기 산업이며, \\n수요 기업의 요구사항에 따라 운영플랫폼을 선택할 수 있는 구매자의 교섭력이 높은 산업임\\n￮'),\n",
       " Document(metadata={'author': 'kmd kdy', 'creationDate': \"D:20220729090316+09'00'\", 'creator': 'Hancom PDF 1.3.0.538', 'file_path': '../../data/nlp/[이슈리포트 2022-2호] 혁신성장 정책금융 동향.pdf', 'format': 'PDF 1.4', 'keywords': '', 'modDate': \"D:20220729090316+09'00'\", 'page': 9, 'producer': 'Hancom PDF 1.3.0.538', 'source': '../../data/nlp/[이슈리포트 2022-2호] 혁신성장 정책금융 동향.pdf', 'subject': '', 'title': '', 'total_pages': 18, 'trapped': ''}, page_content='(40.2)\\n(48.9)\\n(32.8)\\n(49.8)\\n  \\n하드웨어\\n30.9\\n43.1\\n60.2\\n89.2\\n118.3\\n176.5\\n41.7%\\n\\u3000\\n(39.5)\\n(39.7)\\n(48.2)\\n(32.5)\\n(49.2)\\n  \\n     자료: Global Artificial Intelligence(AI) Market, BCC Research (2022)\\n￮\\n인공지능 기술을 도입하는 산업이 늘어나고 있는 점, 인공지능 분야에 진출하는 스타트업의 증가에 \\n따라 산업의 기술경쟁력이 높아지는 점 등은 시장성장에 촉진요인으로 작용할 전망임\\n￮\\n국내 인공지능 기술에 대한 완성도가 높지 않아 국내기술의 도입처가 제한적인 점, 인공지능이')]"
      ]
     },
     "execution_count": 10,
     "metadata": {},
     "output_type": "execute_result"
    }
   ],
   "source": [
    "vectorstore_retriever.get_relevant_documents(\"세계 인공시장에 대해 설명해줘\")"
   ]
  },
  {
   "cell_type": "code",
   "execution_count": 12,
   "metadata": {},
   "outputs": [],
   "source": [
    "# tool 생성\n",
    "vectorstore_search_tool = create_retriever_tool(\n",
    "    retriever=vectorstore_retriever,\n",
    "    name=\"ICT_industry_search\",\n",
    "    description=\"This PDF included information abotu trends in the ICT industry, including AI.\",\n",
    ")\n",
    "\n",
    "tools = [vectorstore_search_tool]"
   ]
  },
  {
   "cell_type": "markdown",
   "metadata": {},
   "source": [
    "# React Prompt\n",
    "툴을 생성하면 일반적으로 ReACT 프롬프트에 다음과 같이 기록됩니다.\n",
    "```\n",
    "다음 질문에 최선을 다해 답변하세요. 당신이 사용할 수 있는 도구는 다음과 같습니다.:\n",
    "\n",
    "ICT_industry_search: This PDF provides information about trends in the ICT industry, including AI.\n",
    "\n",
    "질문: 당신이 답해야 할 입력 질문\n",
    "생각: 무엇을 해야 할지 생각하세요\n",
    "행동: 취해야 할 행동을 선택하세요. [ ICT_industry_search ] 중 하나여야 합니다.\n",
    "행동 입력: 행동에 대한 입력을 작성하세요.\n",
    "관찰: 행동의 결과를 작성하세요\n",
    "...(이 생각/행동/행동 입력/관찰 단계는 여러 번 반복될 수 있습니다)\n",
    "생각: 이제 최종 답변을 알겠습니다.\n",
    "최종 답변: 원래 질문에 대한 최종 답변을 한국어로 작성하세요.\n",
    "\n",
    "시작하세요!\n",
    "```\n",
    "\n",
    "즉 ReACT에서 기본적으로 사용할 Tool에 대한 설명(name과 Description)을 한 후 이 툴을 이용해 **행동**하도록 유도합니다.\n",
    "\n",
    "여러 개의 툴을 사용하는 경우 다음과 같은 프롬프트가 기록됩니다. 계산기용 `Calculator` tool이 추가 됐다고 가정합니다.\n",
    "\n",
    "툴을 생성하면 일반적으로 ReACT 프롬프트에 다음과 같이 기록됩니다.\n",
    "```\n",
    "다음 질문에 최선을 다해 답변하세요. 당신이 사용할 수 있는 도구는 다음과 같습니다.:\n",
    "\n",
    "ICT_industry_search: This PDF provides information about trends in the ICT industry, including AI.\n",
    "Calculator: 계산기입니다.\n",
    "\n",
    "질문: 당신이 답해야 할 입력 질문\n",
    "생각: 무엇을 해야 할지 생각하세요\n",
    "행동: 취해야 할 행동을 선택하세요. [ ICT_industry_search, Calculator ] 중 하나여야 합니다.\n",
    "행동 입력: 행동에 대한 입력을 작성하세요.\n",
    "관찰: 행동의 결과를 작성하세요\n",
    "...(이 생각/행동/행동 입력/관찰 단계는 여러 번 반복될 수 있습니다)\n",
    "생각: 이제 최종 답변을 알겠습니다.\n",
    "최종 답변: 원래 질문에 대한 최종 답변을 한국어로 작성하세요.\n",
    "\n",
    "시작하세요!\n",
    "```\n",
    "\n",
    "즉 ReACT에서 기본적으로 사용할 Tool에 대한 설명(name과 Description)을 한 후 이 툴을 이용해 **행동**하도록 유도합니다."
   ]
  },
  {
   "cell_type": "code",
   "execution_count": 13,
   "metadata": {},
   "outputs": [
    {
     "name": "stderr",
     "output_type": "stream",
     "text": [
      "/opt/anaconda3/envs/llm-env/lib/python3.11/site-packages/langsmith/client.py:354: LangSmithMissingAPIKeyWarning: API key must be provided when using hosted LangSmith API\n",
      "  warnings.warn(\n"
     ]
    },
    {
     "name": "stdout",
     "output_type": "stream",
     "text": [
      "Answer the following questions as best you can. You have access to the following tools:\n",
      "\n",
      "{tools}\n",
      "\n",
      "Use the following format:\n",
      "\n",
      "Question: the input question you must answer\n",
      "Thought: you should always think about what to do\n",
      "Action: the action to take, should be one of [{tool_names}]\n",
      "Action Input: the input to the action\n",
      "Observation: the result of the action\n",
      "... (this Thought/Action/Action Input/Observation can repeat N times)\n",
      "Thought: I now know the final answer\n",
      "Final Answer: the final answer to the original input question\n",
      "\n",
      "Begin!\n",
      "\n",
      "Question: {input}\n",
      "Thought:{agent_scratchpad}\n"
     ]
    }
   ],
   "source": [
    "prompt_react = hub.pull(\"hwchase17/react\")\n",
    "print(prompt_react.template)"
   ]
  },
  {
   "cell_type": "markdown",
   "metadata": {},
   "source": [
    "## 모델 및 agent 생성"
   ]
  },
  {
   "cell_type": "code",
   "execution_count": 20,
   "metadata": {},
   "outputs": [],
   "source": [
    "llm = ChatOpenAI(model=\"gpt-4o-mini\", temperature=0)\n",
    "\n",
    "react_agent = create_react_agent(llm, tools=tools, prompt=prompt_react)\n",
    "\n",
    "react_agent_executor = AgentExecutor(\n",
    "    agent=react_agent, tools=tools, verbose=True, handle_parsing_errors=True\n",
    ")"
   ]
  },
  {
   "cell_type": "code",
   "execution_count": 21,
   "metadata": {},
   "outputs": [
    {
     "name": "stdout",
     "output_type": "stream",
     "text": [
      "\n",
      "\n",
      "\u001b[1m> Entering new AgentExecutor chain...\u001b[0m\n",
      "\u001b[32;1m\u001b[1;3m세계 인공지능 시장규모에 대한 년도 별 정보를 찾기 위해 ICT 산업 관련 자료를 검색해야겠다. \n",
      "Action: ICT_industry_search\n",
      "Action Input: '세계 인공지능 시장규모 년도 별' \u001b[0m\u001b[36;1m\u001b[1;3m세부 솔루션 분문별로는 2020년 기준 소프트웨어 부문의 점유율이 전체시장의 78.3%를 차지할 \n",
      "정도로 압도적으로 높음\n",
      "[세계 인공지능 시장규모]\n",
      "                                                            (단위: 억 달러, 괄호는 YoY %)\n",
      "구분\n",
      "2020\n",
      "2021\n",
      "2022\n",
      "2023\n",
      "2024\n",
      "2025\n",
      "CAGR\n",
      "(2020-2025)\n",
      "인공지능\n",
      "398.4\n",
      "553.3\n",
      "769.7\n",
      "1,134.3\n",
      "1,498.9\n",
      "2,223.7\n",
      "41.0%\n",
      "　\n",
      "(38.9)\n",
      "(39.1)\n",
      "(47.4)\n",
      "(32.1)\n",
      "(48.4)\n",
      "  \n",
      "소프트웨어\n",
      "311.8\n",
      "432.3\n",
      "600.3\n",
      "882.4\n",
      "1,164.6\n",
      "1,723.5\n",
      "40.8%\n",
      "　\n",
      "(38.6)\n",
      "(38.8)\n",
      "(47.0)\n",
      "(32.0)\n",
      "(48.0)\n",
      "  \n",
      "서비스\n",
      "55.7\n",
      "78.0\n",
      "109.3\n",
      "162.6\n",
      "216.0\n",
      "323.7\n",
      "42.2%\n",
      "　\n",
      "(40.0)\n",
      "\n",
      "직접적인 대체 기술이 없어 대체재로부터 위협이 낮은 편이며, 알고리즘의 동작원리를 이해하고 맞\n",
      "춤형 서비스를 지원하기 위한 솔루션 개발 능력이 뒷받침 되어야 하는 기술집약적 산업임\n",
      "▶시장조사전문기관 BCC research에 따르면 세계 인공지능 시장규모는 2020년 398.4억 달러에서 \n",
      "연평균 41.0% 성장하여 2025년에는 2,223.7억 달러의 시장을 형성할 것으로 전망됨\n",
      "￮\n",
      "\n",
      "(40.2)\n",
      "(48.9)\n",
      "(32.8)\n",
      "(49.8)\n",
      "  \n",
      "하드웨어\n",
      "30.9\n",
      "43.1\n",
      "60.2\n",
      "89.2\n",
      "118.3\n",
      "176.5\n",
      "41.7%\n",
      "　\n",
      "(39.5)\n",
      "(39.7)\n",
      "(48.2)\n",
      "(32.5)\n",
      "(49.2)\n",
      "  \n",
      "     자료: Global Artificial Intelligence(AI) Market, BCC Research (2022)\n",
      "￮\n",
      "인공지능 기술을 도입하는 산업이 늘어나고 있는 점, 인공지능 분야에 진출하는 스타트업의 증가에 \n",
      "따라 산업의 기술경쟁력이 높아지는 점 등은 시장성장에 촉진요인으로 작용할 전망임\n",
      "￮\n",
      "국내 인공지능 기술에 대한 완성도가 높지 않아 국내기술의 도입처가 제한적인 점, 인공지능이\n",
      "\n",
      "정부가 미래 먹거리산업으로 선정한 인공지능(AI)의 미래성장율(CAGR: 41.0%)이 가장 높으며, 시장규모는 \n",
      "시스템반도체(3,833.8억 달러, 2025년)가 가장 큰 것으로 분석됨\n",
      "￮\n",
      "4대 품목은 공통적으로 수요기반이 크고, 각국 정부가 중점적으로 육성을 지원하고 있어 시장이 지속 \n",
      "성장할 것으로 전망되나, 원천기술 미확보 및 높은 해외 의존도가 약점으로 지적되어 국내 기업의 경쟁력 \n",
      "강화가 시급한 것으로 평가됨\u001b[0m\u001b[32;1m\u001b[1;3mI now know the final answer. \n",
      "\n",
      "Final Answer: 세계 인공지능 시장규모는 다음과 같습니다 (단위: 억 달러):\n",
      "\n",
      "- 2020년: 398.4\n",
      "- 2021년: 553.3\n",
      "- 2022년: 769.7\n",
      "- 2023년: 1,134.3\n",
      "- 2024년: 1,498.9\n",
      "- 2025년: 2,223.7\n",
      "\n",
      "이 시장은 2020년부터 2025년까지 연평균 41.0% 성장할 것으로 전망됩니다. 소프트웨어 부문이 전체 시장의 78.3%를 차지하며, 서비스와 하드웨어 부문도 각각 성장하고 있습니다.\u001b[0m\n",
      "\n",
      "\u001b[1m> Finished chain.\u001b[0m\n"
     ]
    },
    {
     "data": {
      "text/plain": [
       "{'input': '세계 인공지능 시장규모를 년도 별로 설명해줘',\n",
       " 'output': '세계 인공지능 시장규모는 다음과 같습니다 (단위: 억 달러):\\n\\n- 2020년: 398.4\\n- 2021년: 553.3\\n- 2022년: 769.7\\n- 2023년: 1,134.3\\n- 2024년: 1,498.9\\n- 2025년: 2,223.7\\n\\n이 시장은 2020년부터 2025년까지 연평균 41.0% 성장할 것으로 전망됩니다. 소프트웨어 부문이 전체 시장의 78.3%를 차지하며, 서비스와 하드웨어 부문도 각각 성장하고 있습니다.'}"
      ]
     },
     "execution_count": 21,
     "metadata": {},
     "output_type": "execute_result"
    }
   ],
   "source": [
    "react_agent_executor.invoke({\"input\": \"세계 인공지능 시장규모를 년도 별로 설명해줘\"})"
   ]
  },
  {
   "cell_type": "code",
   "execution_count": 22,
   "metadata": {},
   "outputs": [
    {
     "data": {
      "text/plain": [
       "PromptTemplate(input_variables=['agent_scratchpad', 'input', 'tool_names', 'tools'], input_types={}, partial_variables={}, template='다음 질문에 최선을 다해 답변하세요. 당신이 사용할 수 있는 도구는 다음과 같습니다.:\\n\\n{tools}\\n\\n다음 형식을 따릅니다:\\n\\nQuestion: 당신이 답해야 할 입력 질문\\nThought: 무엇을 해야 할지 생각하세요\\nAction: 취해야 할 행동을 선택하세요. [{tool_names}] 중 하나여야 합니다.\\nAction Input: 행동에 대한 입력을 작성하세요.\\nObservation: 행동의 결과를 작성하세요\\n...(이 생각/행동/행동 입력/관찰 단계는 여러 번 반복될 수 있습니다)\\nThought: 이제 최종 답변을 알겠습니다.\\nFinal Answer: 원래 질문에 대한 최종 답변을 작성하세요.\\n\\nBegin!\\n\\nQuestion: {input}\\nThought: {agent_scratchpad}')"
      ]
     },
     "execution_count": 22,
     "metadata": {},
     "output_type": "execute_result"
    }
   ],
   "source": [
    "from langchain_core.prompts import PromptTemplate\n",
    "\n",
    "kor_react_prompt_template = \"\"\"다음 질문에 최선을 다해 답변하세요. 당신이 사용할 수 있는 도구는 다음과 같습니다.:\n",
    "\n",
    "{tools}\n",
    "\n",
    "다음 형식을 따릅니다:\n",
    "\n",
    "Question: 당신이 답해야 할 입력 질문\n",
    "Thought: 무엇을 해야 할지 생각하세요\n",
    "Action: 취해야 할 행동을 선택하세요. [{tool_names}] 중 하나여야 합니다.\n",
    "Action Input: 행동에 대한 입력을 작성하세요.\n",
    "Observation: 행동의 결과를 작성하세요\n",
    "...(이 생각/행동/행동 입력/관찰 단계는 여러 번 반복될 수 있습니다)\n",
    "Thought: 이제 최종 답변을 알겠습니다.\n",
    "Final Answer: 원래 질문에 대한 최종 답변을 작성하세요.\n",
    "\n",
    "Begin!\n",
    "\n",
    "Question: {input}\n",
    "Thought: {agent_scratchpad}\"\"\"\n",
    "\n",
    "kor_react_prompt = PromptTemplate.from_template(kor_react_prompt_template)\n",
    "kor_react_prompt"
   ]
  },
  {
   "cell_type": "code",
   "execution_count": 23,
   "metadata": {},
   "outputs": [],
   "source": [
    "# Initialize ChatGroq model for language understanding\n",
    "llm = ChatOpenAI(model=\"gpt-4o\", temperature=0)\n",
    "\n",
    "# Create ReAct agent\n",
    "react_agent = create_react_agent(\n",
    "    llm, tools=tools, prompt=kor_react_prompt\n",
    ")  # 한국어 프롬프트 지정\n",
    "\n",
    "react_agent_executor = AgentExecutor(\n",
    "    agent=react_agent, tools=tools, verbose=True, handle_parsing_errors=True\n",
    ")"
   ]
  },
  {
   "cell_type": "code",
   "execution_count": 24,
   "metadata": {},
   "outputs": [
    {
     "name": "stdout",
     "output_type": "stream",
     "text": [
      "\n",
      "\n",
      "\u001b[1m> Entering new AgentExecutor chain...\u001b[0m\n",
      "\u001b[32;1m\u001b[1;3m세계 인공지능 시장 규모에 대한 정보를 찾기 위해 ICT 산업 동향 문서를 검색해야 합니다.\n",
      "Action: ICT_industry_search\n",
      "Action Input: \"세계 인공지능 시장 규모 년도별\"\u001b[0m\u001b[36;1m\u001b[1;3m세부 솔루션 분문별로는 2020년 기준 소프트웨어 부문의 점유율이 전체시장의 78.3%를 차지할 \n",
      "정도로 압도적으로 높음\n",
      "[세계 인공지능 시장규모]\n",
      "                                                            (단위: 억 달러, 괄호는 YoY %)\n",
      "구분\n",
      "2020\n",
      "2021\n",
      "2022\n",
      "2023\n",
      "2024\n",
      "2025\n",
      "CAGR\n",
      "(2020-2025)\n",
      "인공지능\n",
      "398.4\n",
      "553.3\n",
      "769.7\n",
      "1,134.3\n",
      "1,498.9\n",
      "2,223.7\n",
      "41.0%\n",
      "　\n",
      "(38.9)\n",
      "(39.1)\n",
      "(47.4)\n",
      "(32.1)\n",
      "(48.4)\n",
      "  \n",
      "소프트웨어\n",
      "311.8\n",
      "432.3\n",
      "600.3\n",
      "882.4\n",
      "1,164.6\n",
      "1,723.5\n",
      "40.8%\n",
      "　\n",
      "(38.6)\n",
      "(38.8)\n",
      "(47.0)\n",
      "(32.0)\n",
      "(48.0)\n",
      "  \n",
      "서비스\n",
      "55.7\n",
      "78.0\n",
      "109.3\n",
      "162.6\n",
      "216.0\n",
      "323.7\n",
      "42.2%\n",
      "　\n",
      "(40.0)\n",
      "\n",
      "직접적인 대체 기술이 없어 대체재로부터 위협이 낮은 편이며, 알고리즘의 동작원리를 이해하고 맞\n",
      "춤형 서비스를 지원하기 위한 솔루션 개발 능력이 뒷받침 되어야 하는 기술집약적 산업임\n",
      "▶시장조사전문기관 BCC research에 따르면 세계 인공지능 시장규모는 2020년 398.4억 달러에서 \n",
      "연평균 41.0% 성장하여 2025년에는 2,223.7억 달러의 시장을 형성할 것으로 전망됨\n",
      "￮\n",
      "\n",
      "(40.2)\n",
      "(48.9)\n",
      "(32.8)\n",
      "(49.8)\n",
      "  \n",
      "하드웨어\n",
      "30.9\n",
      "43.1\n",
      "60.2\n",
      "89.2\n",
      "118.3\n",
      "176.5\n",
      "41.7%\n",
      "　\n",
      "(39.5)\n",
      "(39.7)\n",
      "(48.2)\n",
      "(32.5)\n",
      "(49.2)\n",
      "  \n",
      "     자료: Global Artificial Intelligence(AI) Market, BCC Research (2022)\n",
      "￮\n",
      "인공지능 기술을 도입하는 산업이 늘어나고 있는 점, 인공지능 분야에 진출하는 스타트업의 증가에 \n",
      "따라 산업의 기술경쟁력이 높아지는 점 등은 시장성장에 촉진요인으로 작용할 전망임\n",
      "￮\n",
      "국내 인공지능 기술에 대한 완성도가 높지 않아 국내기술의 도입처가 제한적인 점, 인공지능이\n",
      "\n",
      "정부가 미래 먹거리산업으로 선정한 인공지능(AI)의 미래성장율(CAGR: 41.0%)이 가장 높으며, 시장규모는 \n",
      "시스템반도체(3,833.8억 달러, 2025년)가 가장 큰 것으로 분석됨\n",
      "￮\n",
      "4대 품목은 공통적으로 수요기반이 크고, 각국 정부가 중점적으로 육성을 지원하고 있어 시장이 지속 \n",
      "성장할 것으로 전망되나, 원천기술 미확보 및 높은 해외 의존도가 약점으로 지적되어 국내 기업의 경쟁력 \n",
      "강화가 시급한 것으로 평가됨\u001b[0m\u001b[32;1m\u001b[1;3m세계 인공지능 시장 규모에 대한 정보를 찾았습니다. 이제 이를 바탕으로 최종 답변을 작성할 수 있습니다.\n",
      "\n",
      "Final Answer: 세계 인공지능 시장 규모는 2020년에 398.4억 달러였으며, 연평균 성장률(CAGR) 41.0%로 성장하여 2025년에는 2,223.7억 달러에 이를 것으로 전망됩니다. 각 년도별 시장 규모는 다음과 같습니다:\n",
      "- 2020년: 398.4억 달러\n",
      "- 2021년: 553.3억 달러\n",
      "- 2022년: 769.7억 달러\n",
      "- 2023년: 1,134.3억 달러\n",
      "- 2024년: 1,498.9억 달러\n",
      "- 2025년: 2,223.7억 달러\n",
      "\n",
      "이 정보는 BCC Research의 자료를 기반으로 하며, 인공지능 기술의 도입 증가와 스타트업의 증가가 시장 성장의 주요 촉진 요인으로 작용하고 있습니다.\u001b[0m\n",
      "\n",
      "\u001b[1m> Finished chain.\u001b[0m\n"
     ]
    },
    {
     "data": {
      "text/plain": [
       "{'input': '세계 인공지능 시장규모를 년도 별로 설명해줘',\n",
       " 'output': '세계 인공지능 시장 규모는 2020년에 398.4억 달러였으며, 연평균 성장률(CAGR) 41.0%로 성장하여 2025년에는 2,223.7억 달러에 이를 것으로 전망됩니다. 각 년도별 시장 규모는 다음과 같습니다:\\n- 2020년: 398.4억 달러\\n- 2021년: 553.3억 달러\\n- 2022년: 769.7억 달러\\n- 2023년: 1,134.3억 달러\\n- 2024년: 1,498.9억 달러\\n- 2025년: 2,223.7억 달러\\n\\n이 정보는 BCC Research의 자료를 기반으로 하며, 인공지능 기술의 도입 증가와 스타트업의 증가가 시장 성장의 주요 촉진 요인으로 작용하고 있습니다.'}"
      ]
     },
     "execution_count": 24,
     "metadata": {},
     "output_type": "execute_result"
    }
   ],
   "source": [
    "react_agent_executor.invoke({\"input\": \"세계 인공지능 시장규모를 년도 별로 설명해줘\"})"
   ]
  },
  {
   "cell_type": "code",
   "execution_count": null,
   "metadata": {},
   "outputs": [],
   "source": []
  }
 ],
 "metadata": {
  "kernelspec": {
   "display_name": "llm-env",
   "language": "python",
   "name": "python3"
  },
  "language_info": {
   "codemirror_mode": {
    "name": "ipython",
    "version": 3
   },
   "file_extension": ".py",
   "mimetype": "text/x-python",
   "name": "python",
   "nbconvert_exporter": "python",
   "pygments_lexer": "ipython3",
   "version": "3.11.8"
  }
 },
 "nbformat": 4,
 "nbformat_minor": 2
}
